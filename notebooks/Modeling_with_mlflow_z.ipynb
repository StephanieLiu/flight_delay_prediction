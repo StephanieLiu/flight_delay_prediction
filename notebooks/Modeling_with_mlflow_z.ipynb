{
 "cells": [
  {
   "cell_type": "markdown",
   "id": "634666ec",
   "metadata": {},
   "source": [
    "Copyright (c) 2024 Houssem Ben Braiek, Emilio Rivera-Landos, IVADO, SEMLA\n",
    "\n",
    "Permission is hereby granted, free of charge, to any person obtaining a copy\n",
    "of this software and associated documentation files (the \"Software\"), to deal\n",
    "in the Software without restriction, including without limitation the rights\n",
    "to use, copy, modify, merge, publish, distribute, sublicense, and/or sell\n",
    "copies of the Software, and to permit persons to whom the Software is\n",
    "furnished to do so, subject to the following conditions:\n",
    "\n",
    "The above copyright notice and this permission notice shall be included in all\n",
    "copies or substantial portions of the Software.\n",
    "\n",
    "THE SOFTWARE IS PROVIDED \"AS IS\", WITHOUT WARRANTY OF ANY KIND, EXPRESS OR\n",
    "IMPLIED, INCLUDING BUT NOT LIMITED TO THE WARRANTIES OF MERCHANTABILITY,\n",
    "FITNESS FOR A PARTICULAR PURPOSE AND NONINFRINGEMENT. IN NO EVENT SHALL THE\n",
    "AUTHORS OR COPYRIGHT HOLDERS BE LIABLE FOR ANY CLAIM, DAMAGES OR OTHER\n",
    "LIABILITY, WHETHER IN AN ACTION OF CONTRACT, TORT OR OTHERWISE, ARISING FROM,\n",
    "OUT OF OR IN CONNECTION WITH THE SOFTWARE OR THE USE OR OTHER DEALINGS IN THE\n",
    "SOFTWARE."
   ]
  },
  {
   "cell_type": "code",
   "execution_count": 7,
   "id": "6dd96ef6",
   "metadata": {},
   "outputs": [],
   "source": [
    "#LOAD ENV VARIABLES\n",
    "import os\n",
    "from dotenv import load_dotenv\n",
    "load_dotenv()\n",
    "MLFLOW_URI = os.getenv(\"MLFLOW_URI\")"
   ]
  },
  {
   "cell_type": "code",
   "execution_count": 8,
   "id": "7d53708f-1d42-497e-bd12-f62fc3d0d7f7",
   "metadata": {},
   "outputs": [
    {
     "name": "stdout",
     "output_type": "stream",
     "text": [
      "The autoreload extension is already loaded. To reload it, use:\n",
      "  %reload_ext autoreload\n"
     ]
    }
   ],
   "source": [
    "%load_ext autoreload\n",
    "%autoreload 2\n",
    "# TODO: comment out if you want to check info logs\n",
    "# import logging\n",
    "# logging.basicConfig(level=logging.INFO)\n",
    "from sklearn.cluster import KMeans, MiniBatchKMeans\n",
    "from sklearn.ensemble import RandomForestClassifier\n",
    "from sklearn.metrics import RocCurveDisplay\n",
    "from sklearn.neural_network import MLPClassifier\n",
    "from sklearn.pipeline import Pipeline\n",
    "from sklearn.tree import DecisionTreeClassifier\n",
    "import sys,os\n",
    "from lightgbm import LGBMRegressor"
   ]
  },
  {
   "cell_type": "code",
   "execution_count": 9,
   "id": "cb19d846",
   "metadata": {},
   "outputs": [],
   "source": [
    "# Get the current directory path\n",
    "current_directory = os.getcwd()\n",
    "\n",
    "# Get the grandparent directory\n",
    "grandparent_dir = os.path.abspath(os.path.join(current_directory, '..', 'src'))\n",
    "sys.path.append(grandparent_dir)\n",
    "# Add the parent directory to sys.path\n",
    "# parent_dir = os.path.join(grandparent_dir, 'flight_delay')\n",
    "# sys.path.append(parent_dir)\n",
    "\n",
    "# sys.path.append(os.path.join(parent_dir, 'mlflow2'))\n",
    "\n"
   ]
  },
  {
   "cell_type": "code",
   "execution_count": 10,
   "id": "09f89f2a",
   "metadata": {},
   "outputs": [],
   "source": [
    "from flight_delay import pre_processing,train_utils,features"
   ]
  },
  {
   "cell_type": "code",
   "execution_count": 13,
   "id": "64beab5e",
   "metadata": {},
   "outputs": [],
   "source": [
    "import flight_delay.mlflow.registry as registry\n",
    "import flight_delay.mlflow.tracking as tracking"
   ]
  },
  {
   "cell_type": "code",
   "execution_count": 14,
   "id": "cdc1eddd-1e7d-414e-92c1-dad7c648f026",
   "metadata": {},
   "outputs": [],
   "source": [
    "# # TODO(PARTICIPANT): Update IF NEEDED the data_dir\n",
    "# dataset, dvc_info = load_dataset_from_dvc(data_dir=\"../data\")\n",
    "\n",
    "#load the data\n",
    "data_path = '../data/flights_delay_dataset.csv'\n",
    "df_flights = pre_processing.load_data(data_path)"
   ]
  },
  {
   "cell_type": "code",
   "execution_count": 15,
   "id": "6c21b10e",
   "metadata": {},
   "outputs": [],
   "source": [
    "df = df_flights[df_flights[\"covid_data\"] == 0]\n",
    "\n",
    "train_start = \"2019-01-01\"\n",
    "train_end   = \"2023-01-01\"\n",
    "\n",
    "test_start = \"2023-01-01\"\n",
    "test_end   = \"2023-09-01\"\n",
    "\n",
    "target_col = \"ARR_DELAY\"\n",
    "split_col  = \"FL_DATE\"\n",
    "\n",
    "X_train,y_train,X_test,y_test = train_utils.train_test_split_func(df,train_start,train_end,test_start,test_end,split_col,target_col)"
   ]
  },
  {
   "cell_type": "code",
   "execution_count": 16,
   "id": "3185ddaf",
   "metadata": {},
   "outputs": [],
   "source": [
    "numerical_cols = features.numerical_cols\n",
    "categorical_cols = features.categorical_cols\n",
    "time_cols = features.time_cols\n",
    "passthrough_cols = features.passthrough_cols\n",
    "\n",
    "features_list = numerical_cols + categorical_cols + time_cols + passthrough_cols\n",
    "\n",
    "predicted_var = \"predicted_arrival_delay\""
   ]
  },
  {
   "cell_type": "markdown",
   "id": "bf28c4ff-5516-410a-9b10-b11d756280e1",
   "metadata": {},
   "source": [
    "#### Creating info dictionaries\n",
    "\n",
    "Notice we add information about the DVC file:"
   ]
  },
  {
   "cell_type": "code",
   "execution_count": 18,
   "id": "1dd1b4d0",
   "metadata": {},
   "outputs": [],
   "source": [
    "import mlflow\n",
    "from mlflow.models import infer_signature\n",
    "import mlflow.sklearn\n",
    "mlflow.set_tracking_uri(MLFLOW_URI)\n",
    "\n",
    "from flight_delay.mlflow.tracking import Experiment"
   ]
  },
  {
   "cell_type": "markdown",
   "id": "c6233fd2-dd07-443b-b7ed-45356581ae88",
   "metadata": {},
   "source": [
    "## Iteration 1\n",
    "In this initial iteration, we prepare the dataset for binary classification modeling and proceed to test our first baseline model, the Decision Tree, using our library."
   ]
  },
  {
   "cell_type": "code",
   "execution_count": 19,
   "id": "ce8637db",
   "metadata": {},
   "outputs": [],
   "source": [
    "experiment_name = 'lightGBM'\n",
    "experiment = Experiment(MLFLOW_URI, experiment_name)"
   ]
  },
  {
   "cell_type": "code",
   "execution_count": 20,
   "id": "f6dc91f9",
   "metadata": {},
   "outputs": [],
   "source": [
    "X_train,y_train,X_test,y_test = train_utils.train_test_split_func(df,train_start,train_end,test_start,test_end,split_col,target_col)"
   ]
  },
  {
   "cell_type": "code",
   "execution_count": 21,
   "id": "bd8eb56b",
   "metadata": {},
   "outputs": [
    {
     "name": "stderr",
     "output_type": "stream",
     "text": [
      "/home/ivamlops/.local/lib/python3.10/site-packages/sklearn/utils/deprecation.py:151: FutureWarning: 'force_all_finite' was renamed to 'ensure_all_finite' in 1.6 and will be removed in 1.8.\n",
      "  warnings.warn(\n"
     ]
    },
    {
     "name": "stdout",
     "output_type": "stream",
     "text": [
      "[LightGBM] [Info] Auto-choosing row-wise multi-threading, the overhead of testing was 0.022183 seconds.\n",
      "You can set `force_row_wise=true` to remove the overhead.\n",
      "And if memory is not enough, you can set `force_col_wise=true`.\n",
      "[LightGBM] [Info] Total Bins 1919\n",
      "[LightGBM] [Info] Number of data points in the train set: 1409857, number of used features: 774\n",
      "[LightGBM] [Info] Start training from score 6.068654\n"
     ]
    },
    {
     "name": "stderr",
     "output_type": "stream",
     "text": [
      "/home/ivamlops/.local/lib/python3.10/site-packages/sklearn/utils/deprecation.py:151: FutureWarning: 'force_all_finite' was renamed to 'ensure_all_finite' in 1.6 and will be removed in 1.8.\n",
      "  warnings.warn(\n",
      "/home/ivamlops/.local/lib/python3.10/site-packages/sklearn/utils/deprecation.py:151: FutureWarning: 'force_all_finite' was renamed to 'ensure_all_finite' in 1.6 and will be removed in 1.8.\n",
      "  warnings.warn(\n",
      "/home/ivamlops/.local/lib/python3.10/site-packages/mlflow/types/utils.py:452: UserWarning: Hint: Inferred schema contains integer column(s). Integer columns in Python cannot represent missing values. If your input data contains missing values at inference time, it will be encoded as floats and will cause a schema enforcement error. The best way to avoid this problem is to infer the model schema based on a realistic data sample (training dataset) that includes missing values. Alternatively, you can declare integer columns as doubles (float64) whenever these columns may have missing values. See `Handling Integers With Missing Values <https://www.mlflow.org/docs/latest/models.html#handling-integers-with-missing-values>`_ for more details.\n",
      "  warnings.warn(\n",
      "/home/ivamlops/.local/lib/python3.10/site-packages/sklearn/utils/deprecation.py:151: FutureWarning: 'force_all_finite' was renamed to 'ensure_all_finite' in 1.6 and will be removed in 1.8.\n",
      "  warnings.warn(\n",
      "2025/02/02 17:09:35 WARNING mlflow.utils.requirements_utils: Encountered an unexpected error (AttributeError(\"module 'flight_delay' has no attribute '__version__'\")) while detecting model dependency mismatches. Set logging level to DEBUG to see the full traceback.\n",
      "2025/02/02 17:09:35 WARNING mlflow.utils.requirements_utils: Encountered an unexpected error (AttributeError(\"module 'flight_delay' has no attribute '__version__'\")) while detecting model dependency mismatches. Set logging level to DEBUG to see the full traceback.\n",
      "/home/ivamlops/.local/lib/python3.10/site-packages/sklearn/utils/deprecation.py:151: FutureWarning: 'force_all_finite' was renamed to 'ensure_all_finite' in 1.6 and will be removed in 1.8.\n",
      "  warnings.warn(\n",
      "Error evaluating regressor LGBMRegressor\n",
      "Traceback (most recent call last):\n",
      "  File \"/home/ivamlops/.local/lib/python3.10/site-packages/requests/adapters.py\", line 667, in send\n",
      "    resp = conn.urlopen(\n",
      "  File \"/usr/lib/python3/dist-packages/urllib3/connectionpool.py\", line 851, in urlopen\n",
      "    return self.urlopen(\n",
      "  File \"/usr/lib/python3/dist-packages/urllib3/connectionpool.py\", line 851, in urlopen\n",
      "    return self.urlopen(\n",
      "  File \"/usr/lib/python3/dist-packages/urllib3/connectionpool.py\", line 851, in urlopen\n",
      "    return self.urlopen(\n",
      "  [Previous line repeated 4 more times]\n",
      "  File \"/usr/lib/python3/dist-packages/urllib3/connectionpool.py\", line 841, in urlopen\n",
      "    retries = retries.increment(method, url, response=response, _pool=self)\n",
      "  File \"/usr/lib/python3/dist-packages/urllib3/util/retry.py\", line 576, in increment\n",
      "    raise MaxRetryError(_pool, url, error or ResponseError(cause))\n",
      "urllib3.exceptions.MaxRetryError: HTTPSConnectionPool(host='mlflow.p02-21.labs.ivamlops.ca', port=443): Max retries exceeded with url: /api/2.0/mlflow-artifacts/artifacts/1/9cbfb894308a4d7e96ad0f83e15982cb/artifacts/regressor/python_env.yaml (Caused by ResponseError('too many 500 error responses'))\n",
      "\n",
      "During handling of the above exception, another exception occurred:\n",
      "\n",
      "Traceback (most recent call last):\n",
      "  File \"/home/ivamlops/.local/lib/python3.10/site-packages/mlflow/utils/rest_utils.py\", line 181, in http_request\n",
      "    return _get_http_response_with_retries(\n",
      "  File \"/home/ivamlops/.local/lib/python3.10/site-packages/mlflow/utils/request_utils.py\", line 237, in _get_http_response_with_retries\n",
      "    return session.request(method, url, allow_redirects=allow_redirects, **kwargs)\n",
      "  File \"/home/ivamlops/.local/lib/python3.10/site-packages/requests/sessions.py\", line 589, in request\n",
      "    resp = self.send(prep, **send_kwargs)\n",
      "  File \"/home/ivamlops/.local/lib/python3.10/site-packages/requests/sessions.py\", line 703, in send\n",
      "    r = adapter.send(request, **kwargs)\n",
      "  File \"/home/ivamlops/.local/lib/python3.10/site-packages/requests/adapters.py\", line 691, in send\n",
      "    raise RetryError(e, request=request)\n",
      "requests.exceptions.RetryError: HTTPSConnectionPool(host='mlflow.p02-21.labs.ivamlops.ca', port=443): Max retries exceeded with url: /api/2.0/mlflow-artifacts/artifacts/1/9cbfb894308a4d7e96ad0f83e15982cb/artifacts/regressor/python_env.yaml (Caused by ResponseError('too many 500 error responses'))\n",
      "\n",
      "During handling of the above exception, another exception occurred:\n",
      "\n",
      "Traceback (most recent call last):\n",
      "  File \"/home/ivamlops/my_repos/flight_delay_prediction/src/flight_delay/train_utils.py\", line 132, in train_model_with_tracking\n",
      "    mlflow.sklearn.log_model(\n",
      "  File \"/home/ivamlops/.local/lib/python3.10/site-packages/mlflow/sklearn/__init__.py\", line 413, in log_model\n",
      "    return Model.log(\n",
      "  File \"/home/ivamlops/.local/lib/python3.10/site-packages/mlflow/models/model.py\", line 866, in log\n",
      "    mlflow.tracking.fluent.log_artifacts(local_path, mlflow_model.artifact_path, run_id)\n",
      "  File \"/home/ivamlops/.local/lib/python3.10/site-packages/mlflow/tracking/fluent.py\", line 1219, in log_artifacts\n",
      "    MlflowClient().log_artifacts(run_id, local_dir, artifact_path)\n",
      "  File \"/home/ivamlops/.local/lib/python3.10/site-packages/mlflow/tracking/client.py\", line 2018, in log_artifacts\n",
      "    self._tracking_client.log_artifacts(run_id, local_dir, artifact_path)\n",
      "  File \"/home/ivamlops/.local/lib/python3.10/site-packages/mlflow/tracking/_tracking_service/client.py\", line 875, in log_artifacts\n",
      "    self._get_artifact_repo(run_id).log_artifacts(local_dir, artifact_path)\n",
      "  File \"/home/ivamlops/.local/lib/python3.10/site-packages/mlflow/store/artifact/http_artifact_repo.py\", line 80, in log_artifacts\n",
      "    self.log_artifact(os.path.join(root, f), artifact_dir)\n",
      "  File \"/home/ivamlops/.local/lib/python3.10/site-packages/mlflow/store/artifact/http_artifact_repo.py\", line 63, in log_artifact\n",
      "    resp = http_request(\n",
      "  File \"/home/ivamlops/.local/lib/python3.10/site-packages/mlflow/utils/rest_utils.py\", line 204, in http_request\n",
      "    raise MlflowException(f\"API request to {url} failed with exception {e}\")\n",
      "mlflow.exceptions.MlflowException: API request to https://mlflow.p02-21.labs.ivamlops.ca/api/2.0/mlflow-artifacts/artifacts/1/9cbfb894308a4d7e96ad0f83e15982cb/artifacts/regressor/python_env.yaml failed with exception HTTPSConnectionPool(host='mlflow.p02-21.labs.ivamlops.ca', port=443): Max retries exceeded with url: /api/2.0/mlflow-artifacts/artifacts/1/9cbfb894308a4d7e96ad0f83e15982cb/artifacts/regressor/python_env.yaml (Caused by ResponseError('too many 500 error responses'))\n"
     ]
    },
    {
     "name": "stdout",
     "output_type": "stream",
     "text": [
      "🏃 View run run_LGBMRegressor_e62ffad0 at: https://mlflow.p02-21.labs.ivamlops.ca/#/experiments/1/runs/9cbfb894308a4d7e96ad0f83e15982cb\n",
      "🧪 View experiment at: https://mlflow.p02-21.labs.ivamlops.ca/#/experiments/1\n"
     ]
    }
   ],
   "source": [
    "results = train_utils.train_model_with_tracking(experiment,LGBMRegressor(),LGBMRegressor.__name__, X_train, y_train,X_test,y_test,categorical_cols, numerical_cols, time_cols, passthrough_cols)"
   ]
  },
  {
   "cell_type": "code",
   "execution_count": 22,
   "id": "6efc7b80",
   "metadata": {},
   "outputs": [
    {
     "data": {
      "text/plain": [
       "[{'regressor': 'LGBMRegressor',\n",
       "  'MAE_train': 24.114304280561978,\n",
       "  'MAE_test': 26.803231543466417}]"
      ]
     },
     "execution_count": 22,
     "metadata": {},
     "output_type": "execute_result"
    }
   ],
   "source": [
    "results"
   ]
  },
  {
   "cell_type": "code",
   "execution_count": 23,
   "id": "71601002",
   "metadata": {},
   "outputs": [],
   "source": [
    "best_run = tracking.get_best_run(experiment)"
   ]
  },
  {
   "cell_type": "markdown",
   "id": "b12af46e",
   "metadata": {},
   "source": [
    "## Final Step\n",
    "It is important now to register our best advanced model into model registry. We will show how to transition to staging, as well as promoting to production using bank-marketing library, however, these steps should be done after careful validation."
   ]
  },
  {
   "cell_type": "code",
   "execution_count": 24,
   "id": "c8dc573a",
   "metadata": {},
   "outputs": [],
   "source": [
    "model_name = \"lightGBM\""
   ]
  },
  {
   "cell_type": "code",
   "execution_count": 25,
   "id": "4ea1c352",
   "metadata": {},
   "outputs": [
    {
     "ename": "KeyError",
     "evalue": "'mlflow.log-model.history'",
     "output_type": "error",
     "traceback": [
      "\u001b[0;31m---------------------------------------------------------------------------\u001b[0m",
      "\u001b[0;31mKeyError\u001b[0m                                  Traceback (most recent call last)",
      "Cell \u001b[0;32mIn[25], line 1\u001b[0m\n\u001b[0;32m----> 1\u001b[0m model_version \u001b[38;5;241m=\u001b[39m \u001b[43mregistry\u001b[49m\u001b[38;5;241;43m.\u001b[39;49m\u001b[43mregister_model_from_run\u001b[49m\u001b[43m(\u001b[49m\u001b[43mexperiment\u001b[49m\u001b[38;5;241;43m.\u001b[39;49m\u001b[43mtracking_server_uri\u001b[49m\u001b[43m,\u001b[49m\u001b[43m \u001b[49m\u001b[43mbest_run\u001b[49m\u001b[43m,\u001b[49m\u001b[43m \u001b[49m\u001b[43mmodel_name\u001b[49m\u001b[43m)\u001b[49m\n",
      "File \u001b[0;32m~/my_repos/flight_delay_prediction/src/flight_delay/mlflow/registry.py:138\u001b[0m, in \u001b[0;36mregister_model_from_run\u001b[0;34m(tracking_uri, run, model_name)\u001b[0m\n\u001b[1;32m    136\u001b[0m \u001b[38;5;28;01mdef\u001b[39;00m\u001b[38;5;250m \u001b[39m\u001b[38;5;21mregister_model_from_run\u001b[39m(tracking_uri:\u001b[38;5;28mstr\u001b[39m, run:Run, model_name:\u001b[38;5;28mstr\u001b[39m) \u001b[38;5;241m-\u001b[39m\u001b[38;5;241m>\u001b[39m \u001b[38;5;28;01mNone\u001b[39;00m:\n\u001b[1;32m    137\u001b[0m     mlflow\u001b[38;5;241m.\u001b[39mset_tracking_uri(tracking_uri)\n\u001b[0;32m--> 138\u001b[0m     model_uri \u001b[38;5;241m=\u001b[39m \u001b[43mbuild_model_uri_from_run\u001b[49m\u001b[43m(\u001b[49m\u001b[43mrun\u001b[49m\u001b[43m)\u001b[49m\n\u001b[1;32m    139\u001b[0m     \u001b[38;5;28;01mreturn\u001b[39;00m mlflow\u001b[38;5;241m.\u001b[39mregister_model(model_uri\u001b[38;5;241m=\u001b[39mmodel_uri, \n\u001b[1;32m    140\u001b[0m                                 name\u001b[38;5;241m=\u001b[39mmodel_name)\n",
      "File \u001b[0;32m~/my_repos/flight_delay_prediction/src/flight_delay/mlflow/tracking.py:129\u001b[0m, in \u001b[0;36mbuild_model_uri_from_run\u001b[0;34m(run)\u001b[0m\n\u001b[1;32m    119\u001b[0m \u001b[38;5;28;01mdef\u001b[39;00m\u001b[38;5;250m \u001b[39m\u001b[38;5;21mbuild_model_uri_from_run\u001b[39m(run:Run) \u001b[38;5;241m-\u001b[39m\u001b[38;5;241m>\u001b[39m \u001b[38;5;28mstr\u001b[39m:\n\u001b[1;32m    120\u001b[0m \u001b[38;5;250m    \u001b[39m\u001b[38;5;124;03m\"\"\"\u001b[39;00m\n\u001b[1;32m    121\u001b[0m \u001b[38;5;124;03m    Builds the model URI from the MLflow Run object.\u001b[39;00m\n\u001b[1;32m    122\u001b[0m \n\u001b[0;32m   (...)\u001b[0m\n\u001b[1;32m    127\u001b[0m \u001b[38;5;124;03m    - str: The model URI constructed from the run information.\u001b[39;00m\n\u001b[1;32m    128\u001b[0m \u001b[38;5;124;03m    \"\"\"\u001b[39;00m\n\u001b[0;32m--> 129\u001b[0m     artifact_path \u001b[38;5;241m=\u001b[39m json\u001b[38;5;241m.\u001b[39mloads(\u001b[43mrun\u001b[49m\u001b[38;5;241;43m.\u001b[39;49m\u001b[43mdata\u001b[49m\u001b[38;5;241;43m.\u001b[39;49m\u001b[43mtags\u001b[49m\u001b[43m[\u001b[49m\u001b[38;5;124;43m'\u001b[39;49m\u001b[38;5;124;43mmlflow.log-model.history\u001b[39;49m\u001b[38;5;124;43m'\u001b[39;49m\u001b[43m]\u001b[49m)[\u001b[38;5;241m0\u001b[39m][\u001b[38;5;124m\"\u001b[39m\u001b[38;5;124martifact_path\u001b[39m\u001b[38;5;124m\"\u001b[39m]\n\u001b[1;32m    130\u001b[0m     model_uri \u001b[38;5;241m=\u001b[39m \u001b[38;5;124mf\u001b[39m\u001b[38;5;124m\"\u001b[39m\u001b[38;5;124mruns:/\u001b[39m\u001b[38;5;132;01m{\u001b[39;00mrun\u001b[38;5;241m.\u001b[39minfo\u001b[38;5;241m.\u001b[39mrun_id\u001b[38;5;132;01m}\u001b[39;00m\u001b[38;5;124m/\u001b[39m\u001b[38;5;132;01m{\u001b[39;00martifact_path\u001b[38;5;132;01m}\u001b[39;00m\u001b[38;5;124m\"\u001b[39m\n\u001b[1;32m    131\u001b[0m     \u001b[38;5;28;01mreturn\u001b[39;00m model_uri\n",
      "\u001b[0;31mKeyError\u001b[0m: 'mlflow.log-model.history'"
     ]
    }
   ],
   "source": [
    "model_version = registry.register_model_from_run(experiment.tracking_server_uri, best_run, model_name)"
   ]
  },
  {
   "cell_type": "code",
   "execution_count": null,
   "id": "1e3157a1",
   "metadata": {},
   "outputs": [],
   "source": [
    "registry.transition_model_to_staging(experiment.tracking_server_uri, model_name, model_version.version)"
   ]
  },
  {
   "cell_type": "code",
   "execution_count": null,
   "id": "2f03a2be",
   "metadata": {},
   "outputs": [],
   "source": [
    "model_version = registry.promote_model_to_production(experiment.tracking_server_uri, model_name, f\"{model_name}-production\")"
   ]
  },
  {
   "cell_type": "code",
   "execution_count": null,
   "id": "8ec66c69",
   "metadata": {},
   "outputs": [],
   "source": [
    "registry.set_active_production_model(experiment.tracking_server_uri,  f\"{model_name}-production\", model_version.version)"
   ]
  }
 ],
 "metadata": {
  "kernelspec": {
   "display_name": "Python 3",
   "language": "python",
   "name": "python3"
  },
  "language_info": {
   "codemirror_mode": {
    "name": "ipython",
    "version": 3
   },
   "file_extension": ".py",
   "mimetype": "text/x-python",
   "name": "python",
   "nbconvert_exporter": "python",
   "pygments_lexer": "ipython3",
   "version": "3.10.12"
  }
 },
 "nbformat": 4,
 "nbformat_minor": 5
}
