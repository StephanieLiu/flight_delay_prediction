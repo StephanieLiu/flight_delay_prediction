{
 "cells": [
  {
   "cell_type": "markdown",
   "id": "634666ec",
   "metadata": {},
   "source": [
    "Copyright (c) 2024 Houssem Ben Braiek, Emilio Rivera-Landos, IVADO, SEMLA\n",
    "\n",
    "Permission is hereby granted, free of charge, to any person obtaining a copy\n",
    "of this software and associated documentation files (the \"Software\"), to deal\n",
    "in the Software without restriction, including without limitation the rights\n",
    "to use, copy, modify, merge, publish, distribute, sublicense, and/or sell\n",
    "copies of the Software, and to permit persons to whom the Software is\n",
    "furnished to do so, subject to the following conditions:\n",
    "\n",
    "The above copyright notice and this permission notice shall be included in all\n",
    "copies or substantial portions of the Software.\n",
    "\n",
    "THE SOFTWARE IS PROVIDED \"AS IS\", WITHOUT WARRANTY OF ANY KIND, EXPRESS OR\n",
    "IMPLIED, INCLUDING BUT NOT LIMITED TO THE WARRANTIES OF MERCHANTABILITY,\n",
    "FITNESS FOR A PARTICULAR PURPOSE AND NONINFRINGEMENT. IN NO EVENT SHALL THE\n",
    "AUTHORS OR COPYRIGHT HOLDERS BE LIABLE FOR ANY CLAIM, DAMAGES OR OTHER\n",
    "LIABILITY, WHETHER IN AN ACTION OF CONTRACT, TORT OR OTHERWISE, ARISING FROM,\n",
    "OUT OF OR IN CONNECTION WITH THE SOFTWARE OR THE USE OR OTHER DEALINGS IN THE\n",
    "SOFTWARE."
   ]
  },
  {
   "cell_type": "code",
   "execution_count": 1,
   "id": "6dd96ef6",
   "metadata": {},
   "outputs": [],
   "source": [
    "#LOAD ENV VARIABLES\n",
    "import os\n",
    "from dotenv import load_dotenv\n",
    "load_dotenv()\n",
    "MLFLOW_URI = os.getenv(\"MLFLOW_URI\")"
   ]
  },
  {
   "cell_type": "code",
   "execution_count": 2,
   "id": "7d53708f-1d42-497e-bd12-f62fc3d0d7f7",
   "metadata": {},
   "outputs": [],
   "source": [
    "%load_ext autoreload\n",
    "%autoreload 2\n",
    "# TODO: comment out if you want to check info logs\n",
    "# import logging\n",
    "# logging.basicConfig(level=logging.INFO)\n",
    "from sklearn.cluster import KMeans, MiniBatchKMeans\n",
    "from sklearn.ensemble import RandomForestClassifier\n",
    "from sklearn.metrics import RocCurveDisplay\n",
    "from sklearn.neural_network import MLPClassifier\n",
    "from sklearn.pipeline import Pipeline\n",
    "from sklearn.tree import DecisionTreeClassifier\n",
    "import sys,os\n",
    "from lightgbm import LGBMRegressor"
   ]
  },
  {
   "cell_type": "code",
   "execution_count": 3,
   "id": "cb19d846",
   "metadata": {},
   "outputs": [],
   "source": [
    "# Get the current directory path\n",
    "current_directory = os.getcwd()\n",
    "\n",
    "# Get the grandparent directory\n",
    "grandparent_dir = os.path.abspath(os.path.join(current_directory, '..', 'src'))\n",
    "sys.path.append(grandparent_dir)\n",
    "# Add the parent directory to sys.path\n",
    "# parent_dir = os.path.join(grandparent_dir, 'flight_delay')\n",
    "# sys.path.append(parent_dir)\n",
    "\n",
    "# sys.path.append(os.path.join(parent_dir, 'mlflow2'))\n",
    "\n"
   ]
  },
  {
   "cell_type": "code",
   "execution_count": 5,
   "id": "09f89f2a",
   "metadata": {},
   "outputs": [],
   "source": [
    "from flight_delay import pre_processing,train_utils,features"
   ]
  },
  {
   "cell_type": "code",
   "execution_count": 6,
   "id": "64beab5e",
   "metadata": {},
   "outputs": [],
   "source": [
    "import flight_delay.mlflow.registry as registry\n",
    "import flight_delay.mlflow.tracking as tracking"
   ]
  },
  {
   "cell_type": "code",
   "execution_count": 7,
   "id": "cdc1eddd-1e7d-414e-92c1-dad7c648f026",
   "metadata": {},
   "outputs": [],
   "source": [
    "# # TODO(PARTICIPANT): Update IF NEEDED the data_dir\n",
    "# dataset, dvc_info = load_dataset_from_dvc(data_dir=\"../data\")\n",
    "\n",
    "#load the data\n",
    "data_path = '../data/flights_delay_dataset.csv'\n",
    "df_flights = pre_processing.load_data(data_path)"
   ]
  },
  {
   "cell_type": "code",
   "execution_count": 8,
   "id": "6c21b10e",
   "metadata": {},
   "outputs": [],
   "source": [
    "df = df_flights[df_flights[\"covid_data\"] == 0]\n",
    "\n",
    "train_start = \"2019-01-01\"\n",
    "train_end   = \"2023-01-01\"\n",
    "\n",
    "test_start = \"2023-01-01\"\n",
    "test_end   = \"2023-09-01\"\n",
    "\n",
    "target_col = \"ARR_DELAY\"\n",
    "split_col  = \"FL_DATE\"\n",
    "\n",
    "X_train,y_train,X_test,y_test = train_utils.train_test_split_func(df,train_start,train_end,test_start,test_end,split_col,target_col)"
   ]
  },
  {
   "cell_type": "code",
   "execution_count": 9,
   "id": "3185ddaf",
   "metadata": {},
   "outputs": [],
   "source": [
    "numerical_cols = features.numerical_cols\n",
    "categorical_cols = features.categorical_cols\n",
    "time_cols = features.time_cols\n",
    "passthrough_cols = features.passthrough_cols\n",
    "\n",
    "features_list = numerical_cols + categorical_cols + time_cols + passthrough_cols\n",
    "\n",
    "predicted_var = \"predicted_arrival_delay\""
   ]
  },
  {
   "cell_type": "markdown",
   "id": "bf28c4ff-5516-410a-9b10-b11d756280e1",
   "metadata": {},
   "source": [
    "#### Creating info dictionaries\n",
    "\n",
    "Notice we add information about the DVC file:"
   ]
  },
  {
   "cell_type": "code",
   "execution_count": 10,
   "id": "1dd1b4d0",
   "metadata": {},
   "outputs": [],
   "source": [
    "import mlflow\n",
    "from mlflow.models import infer_signature\n",
    "import mlflow.sklearn\n",
    "mlflow.set_tracking_uri(MLFLOW_URI)\n",
    "\n",
    "from flight_delay.mlflow.tracking import Experiment"
   ]
  },
  {
   "cell_type": "markdown",
   "id": "c6233fd2-dd07-443b-b7ed-45356581ae88",
   "metadata": {},
   "source": [
    "## Iteration 1\n",
    "In this initial iteration, we prepare the dataset for binary classification modeling and proceed to test our first baseline model, the Decision Tree, using our library."
   ]
  },
  {
   "cell_type": "code",
   "execution_count": 11,
   "id": "ce8637db",
   "metadata": {},
   "outputs": [],
   "source": [
    "experiment_name = 'lightGBM'\n",
    "experiment = Experiment(MLFLOW_URI, experiment_name)"
   ]
  },
  {
   "cell_type": "code",
   "execution_count": 12,
   "id": "f6dc91f9",
   "metadata": {},
   "outputs": [],
   "source": [
    "X_train,y_train,X_test,y_test = train_utils.train_test_split_func(df,train_start,train_end,test_start,test_end,split_col,target_col)"
   ]
  },
  {
   "cell_type": "code",
   "execution_count": 13,
   "id": "bd8eb56b",
   "metadata": {},
   "outputs": [
    {
     "name": "stderr",
     "output_type": "stream",
     "text": [
      "/home/ivamlops/.local/lib/python3.10/site-packages/sklearn/utils/deprecation.py:151: FutureWarning: 'force_all_finite' was renamed to 'ensure_all_finite' in 1.6 and will be removed in 1.8.\n",
      "  warnings.warn(\n"
     ]
    },
    {
     "name": "stdout",
     "output_type": "stream",
     "text": [
      "[LightGBM] [Info] Auto-choosing row-wise multi-threading, the overhead of testing was 0.020908 seconds.\n",
      "You can set `force_row_wise=true` to remove the overhead.\n",
      "And if memory is not enough, you can set `force_col_wise=true`.\n",
      "[LightGBM] [Info] Total Bins 1919\n",
      "[LightGBM] [Info] Number of data points in the train set: 1409857, number of used features: 774\n",
      "[LightGBM] [Info] Start training from score 6.068654\n"
     ]
    },
    {
     "name": "stderr",
     "output_type": "stream",
     "text": [
      "/home/ivamlops/.local/lib/python3.10/site-packages/sklearn/utils/deprecation.py:151: FutureWarning: 'force_all_finite' was renamed to 'ensure_all_finite' in 1.6 and will be removed in 1.8.\n",
      "  warnings.warn(\n",
      "/home/ivamlops/.local/lib/python3.10/site-packages/sklearn/utils/deprecation.py:151: FutureWarning: 'force_all_finite' was renamed to 'ensure_all_finite' in 1.6 and will be removed in 1.8.\n",
      "  warnings.warn(\n",
      "/home/ivamlops/.local/lib/python3.10/site-packages/mlflow/types/utils.py:452: UserWarning: Hint: Inferred schema contains integer column(s). Integer columns in Python cannot represent missing values. If your input data contains missing values at inference time, it will be encoded as floats and will cause a schema enforcement error. The best way to avoid this problem is to infer the model schema based on a realistic data sample (training dataset) that includes missing values. Alternatively, you can declare integer columns as doubles (float64) whenever these columns may have missing values. See `Handling Integers With Missing Values <https://www.mlflow.org/docs/latest/models.html#handling-integers-with-missing-values>`_ for more details.\n",
      "  warnings.warn(\n",
      "/home/ivamlops/.local/lib/python3.10/site-packages/sklearn/utils/deprecation.py:151: FutureWarning: 'force_all_finite' was renamed to 'ensure_all_finite' in 1.6 and will be removed in 1.8.\n",
      "  warnings.warn(\n",
      "2025/02/03 15:26:48 WARNING mlflow.utils.requirements_utils: Encountered an unexpected error (AttributeError(\"module 'flight_delay' has no attribute '__version__'\")) while detecting model dependency mismatches. Set logging level to DEBUG to see the full traceback.\n",
      "2025/02/03 15:26:48 WARNING mlflow.utils.requirements_utils: Encountered an unexpected error (AttributeError(\"module 'flight_delay' has no attribute '__version__'\")) while detecting model dependency mismatches. Set logging level to DEBUG to see the full traceback.\n",
      "/home/ivamlops/.local/lib/python3.10/site-packages/sklearn/utils/deprecation.py:151: FutureWarning: 'force_all_finite' was renamed to 'ensure_all_finite' in 1.6 and will be removed in 1.8.\n",
      "  warnings.warn(\n"
     ]
    },
    {
     "name": "stdout",
     "output_type": "stream",
     "text": [
      "🏃 View run run_LGBMRegressor_b8ba660a at: https://mlflow.p02-17.labs.ivamlops.ca/#/experiments/1/runs/4150aba82c414c01bf0fabb1b7cd86af\n",
      "🧪 View experiment at: https://mlflow.p02-17.labs.ivamlops.ca/#/experiments/1\n"
     ]
    }
   ],
   "source": [
    "results = train_utils.train_model_with_tracking(experiment,LGBMRegressor(),LGBMRegressor.__name__, X_train, y_train,X_test,y_test,categorical_cols, numerical_cols, time_cols, passthrough_cols)"
   ]
  },
  {
   "cell_type": "code",
   "execution_count": 14,
   "id": "6efc7b80",
   "metadata": {},
   "outputs": [
    {
     "data": {
      "text/plain": [
       "[{'regressor': 'LGBMRegressor',\n",
       "  'MAE_train': 24.114304280561978,\n",
       "  'MAE_test': 26.803231543466417}]"
      ]
     },
     "execution_count": 14,
     "metadata": {},
     "output_type": "execute_result"
    }
   ],
   "source": [
    "results"
   ]
  },
  {
   "cell_type": "code",
   "execution_count": 15,
   "id": "71601002",
   "metadata": {},
   "outputs": [],
   "source": [
    "best_run = tracking.get_best_run(experiment)"
   ]
  },
  {
   "cell_type": "markdown",
   "id": "b12af46e",
   "metadata": {},
   "source": [
    "## Final Step\n",
    "It is important now to register our best advanced model into model registry. We will show how to transition to staging, as well as promoting to production using bank-marketing library, however, these steps should be done after careful validation."
   ]
  },
  {
   "cell_type": "code",
   "execution_count": 16,
   "id": "c8dc573a",
   "metadata": {},
   "outputs": [],
   "source": [
    "model_name = \"lightGBM\""
   ]
  },
  {
   "cell_type": "code",
   "execution_count": 17,
   "id": "4ea1c352",
   "metadata": {},
   "outputs": [
    {
     "name": "stderr",
     "output_type": "stream",
     "text": [
      "Successfully registered model 'lightGBM'.\n",
      "2025/02/03 15:27:57 INFO mlflow.store.model_registry.abstract_store: Waiting up to 300 seconds for model version to finish creation. Model name: lightGBM, version 1\n",
      "Created version '1' of model 'lightGBM'.\n"
     ]
    }
   ],
   "source": [
    "model_version = registry.register_model_from_run(experiment.tracking_server_uri, best_run, model_name)"
   ]
  },
  {
   "cell_type": "code",
   "execution_count": 18,
   "id": "1e3157a1",
   "metadata": {},
   "outputs": [],
   "source": [
    "registry.transition_model_to_staging(experiment.tracking_server_uri, model_name, model_version.version)"
   ]
  },
  {
   "cell_type": "code",
   "execution_count": 19,
   "id": "2f03a2be",
   "metadata": {},
   "outputs": [
    {
     "name": "stderr",
     "output_type": "stream",
     "text": [
      "Successfully registered model 'lightGBM-production'.\n",
      "Copied version '1' of model 'lightGBM' to version '1' of model 'lightGBM-production'.\n"
     ]
    }
   ],
   "source": [
    "model_version = registry.promote_model_to_production(experiment.tracking_server_uri, model_name, f\"{model_name}-production\")"
   ]
  },
  {
   "cell_type": "code",
   "execution_count": 20,
   "id": "8ec66c69",
   "metadata": {},
   "outputs": [],
   "source": [
    "registry.set_active_production_model(experiment.tracking_server_uri,  f\"{model_name}-production\", model_version.version)"
   ]
  }
 ],
 "metadata": {
  "kernelspec": {
   "display_name": "Python 3",
   "language": "python",
   "name": "python3"
  },
  "language_info": {
   "codemirror_mode": {
    "name": "ipython",
    "version": 3
   },
   "file_extension": ".py",
   "mimetype": "text/x-python",
   "name": "python",
   "nbconvert_exporter": "python",
   "pygments_lexer": "ipython3",
   "version": "3.10.12"
  }
 },
 "nbformat": 4,
 "nbformat_minor": 5
}
