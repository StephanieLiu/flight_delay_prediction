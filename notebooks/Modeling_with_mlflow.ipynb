{
 "cells": [
  {
   "cell_type": "markdown",
   "id": "634666ec",
   "metadata": {},
   "source": [
    "Copyright (c) 2024 Houssem Ben Braiek, Emilio Rivera-Landos, IVADO, SEMLA\n",
    "\n",
    "Permission is hereby granted, free of charge, to any person obtaining a copy\n",
    "of this software and associated documentation files (the \"Software\"), to deal\n",
    "in the Software without restriction, including without limitation the rights\n",
    "to use, copy, modify, merge, publish, distribute, sublicense, and/or sell\n",
    "copies of the Software, and to permit persons to whom the Software is\n",
    "furnished to do so, subject to the following conditions:\n",
    "\n",
    "The above copyright notice and this permission notice shall be included in all\n",
    "copies or substantial portions of the Software.\n",
    "\n",
    "THE SOFTWARE IS PROVIDED \"AS IS\", WITHOUT WARRANTY OF ANY KIND, EXPRESS OR\n",
    "IMPLIED, INCLUDING BUT NOT LIMITED TO THE WARRANTIES OF MERCHANTABILITY,\n",
    "FITNESS FOR A PARTICULAR PURPOSE AND NONINFRINGEMENT. IN NO EVENT SHALL THE\n",
    "AUTHORS OR COPYRIGHT HOLDERS BE LIABLE FOR ANY CLAIM, DAMAGES OR OTHER\n",
    "LIABILITY, WHETHER IN AN ACTION OF CONTRACT, TORT OR OTHERWISE, ARISING FROM,\n",
    "OUT OF OR IN CONNECTION WITH THE SOFTWARE OR THE USE OR OTHER DEALINGS IN THE\n",
    "SOFTWARE."
   ]
  },
  {
   "cell_type": "markdown",
   "id": "c6893f29-f790-4560-8fd9-b0bdb724b710",
   "metadata": {},
   "source": [
    "# The Modelling Process\n",
    "In this notebook, we also leverage our library to automate repetitive tasks, ensuring a more efficient and organized workflow."
   ]
  },
  {
   "cell_type": "code",
   "execution_count": null,
   "id": "6dd96ef6",
   "metadata": {},
   "outputs": [],
   "source": [
    "#LOAD ENV VARIABLES\n",
    "import os\n",
    "from dotenv import load_dotenv\n",
    "load_dotenv()\n",
    "MLFLOW_URI = os.getenv(\"MLFLOW_URI\")"
   ]
  },
  {
   "cell_type": "code",
   "execution_count": null,
   "id": "7d53708f-1d42-497e-bd12-f62fc3d0d7f7",
   "metadata": {},
   "outputs": [],
   "source": [
    "%load_ext autoreload\n",
    "%autoreload 2\n",
    "# TODO: comment out if you want to check info logs\n",
    "# import logging\n",
    "# logging.basicConfig(level=logging.INFO)\n",
    "from sklearn.cluster import KMeans, MiniBatchKMeans\n",
    "from sklearn.ensemble import RandomForestClassifier\n",
    "from sklearn.metrics import RocCurveDisplay\n",
    "from sklearn.neural_network import MLPClassifier\n",
    "from sklearn.pipeline import Pipeline\n",
    "from sklearn.tree import DecisionTreeClassifier\n",
    "\n",
    "from bank_marketing.data.load_datasets import load_dataset_from_dvc"
   ]
  },
  {
   "cell_type": "code",
   "execution_count": null,
   "id": "642db90a-bbcc-410c-9402-d59c436b58fc",
   "metadata": {
    "scrolled": true
   },
   "outputs": [],
   "source": [
    "os.environ"
   ]
  },
  {
   "cell_type": "markdown",
   "id": "2c26ef15",
   "metadata": {},
   "source": [
    "### Load the data splits"
   ]
  },
  {
   "cell_type": "markdown",
   "id": "b6125ee4-6a40-4559-8ad6-03c2eb80198c",
   "metadata": {},
   "source": [
    "1. Read dvc info direct **from disk** (using `load_dataset_from_dvc`)\n",
    "1. Add info harcoded into the dict in this notebook (merge python object)\n",
    "1. Fetch from dvc with fsspec (update: actually in the function this is done)"
   ]
  },
  {
   "cell_type": "code",
   "execution_count": null,
   "id": "cdc1eddd-1e7d-414e-92c1-dad7c648f026",
   "metadata": {},
   "outputs": [],
   "source": [
    "# TODO(PARTICIPANT): Update IF NEEDED the data_dir\n",
    "dataset, dvc_info = load_dataset_from_dvc(data_dir=\"../data\")"
   ]
  },
  {
   "cell_type": "code",
   "execution_count": null,
   "id": "02c486a0-cb19-4dcf-8801-4bee82b83ab0",
   "metadata": {},
   "outputs": [],
   "source": [
    "try:\n",
    "    import dvc.api\n",
    "    print(dvc.api.get_url(\"../data/splits/train_x.csv\"))\n",
    "except Exception:\n",
    "    pass"
   ]
  },
  {
   "cell_type": "code",
   "execution_count": null,
   "id": "ac969f73-5574-440c-87ec-7a7d0ce563d9",
   "metadata": {},
   "outputs": [],
   "source": [
    "dvc_info"
   ]
  },
  {
   "cell_type": "markdown",
   "id": "fd3cea06-1261-4b25-8ea1-5d554a83ef03",
   "metadata": {},
   "source": [
    "### END - Load the data splits"
   ]
  },
  {
   "cell_type": "markdown",
   "id": "fc13b393",
   "metadata": {},
   "source": [
    "### Init the constants"
   ]
  },
  {
   "cell_type": "code",
   "execution_count": null,
   "id": "3185ddaf",
   "metadata": {},
   "outputs": [],
   "source": [
    "person_info_cols_cat = ['job', 'marital', 'education', 'default', 'housing', 'loan', 'comm_type']\n",
    "person_info_cols_num = ['age']\n",
    "num_cols_wo_customer = [\n",
    "    'curr_n_contact',\n",
    "    'days_since_last_campaign',\n",
    "    'last_n_contact',\n",
    "    'emp.var.rate',\n",
    "    'cons.price.idx',\n",
    "    'cons.conf.idx',\n",
    "    'euribor3m',\n",
    "    'nr.employed',\n",
    "]\n",
    "cat_cols_wo_customer = ['comm_month', 'comm_day', 'last_outcome']\n",
    "numerical_cols = person_info_cols_num + num_cols_wo_customer\n",
    "categorical_cols = person_info_cols_cat + cat_cols_wo_customer\n",
    "predictors = person_info_cols_cat + person_info_cols_num + num_cols_wo_customer + cat_cols_wo_customer\n",
    "predicted = 'curr_outcome'"
   ]
  },
  {
   "cell_type": "markdown",
   "id": "bf28c4ff-5516-410a-9b10-b11d756280e1",
   "metadata": {},
   "source": [
    "#### Creating info dictionaries\n",
    "\n",
    "Notice we add information about the DVC file:"
   ]
  },
  {
   "cell_type": "code",
   "execution_count": null,
   "id": "03eb5db4",
   "metadata": {},
   "outputs": [],
   "source": [
    "classic_ds_info = {\n",
    "    \"numerical_features\": numerical_cols,\n",
    "    \"categorical_features\": categorical_cols,\n",
    "    \"predicted_target\": predicted,\n",
    "    \"dvc_info\": dvc_info,\n",
    "}"
   ]
  },
  {
   "cell_type": "code",
   "execution_count": null,
   "id": "719cbc4e",
   "metadata": {},
   "outputs": [],
   "source": [
    "adv_ds_info = {\n",
    "    \"person_info_num_features\": person_info_cols_num,\n",
    "    \"person_info_cat_features\": person_info_cols_cat,\n",
    "    \"wo_customer_num_features\": num_cols_wo_customer,\n",
    "    \"wo_customer_cat_features\": cat_cols_wo_customer,\n",
    "    \"predicted_target\": predicted,\n",
    "    \"dvc_info\": dvc_info,\n",
    "}"
   ]
  },
  {
   "cell_type": "code",
   "execution_count": null,
   "id": "f57417da",
   "metadata": {},
   "outputs": [],
   "source": [
    "import mlflow\n",
    "from mlflow.models import infer_signature\n",
    "import mlflow.sklearn\n",
    "mlflow.set_tracking_uri(MLFLOW_URI)\n",
    "from bank_marketing.models.skl_tracked_train_models import(\n",
    "    train_and_evaluate_with_tracking,\n",
    "    advanced_train_and_evaluate_with_tracking\n",
    ") \n",
    "from bank_marketing.mlflow.tracking import Experiment\n",
    "from bank_marketing.features.skl_build_features import (\n",
    "    FeatureNames,\n",
    "    make_data_transformer,\n",
    "    AdvFeatureNames,\n",
    "    make_advanced_data_transformer,\n",
    ")\n",
    "from bank_marketing.models.skl_train_models import (\n",
    "    accuracy_evaluation,\n",
    "    print_accuracy_results\n",
    ")\n",
    "from bank_marketing.mlflow.tracking import get_best_run, explore_best_runs"
   ]
  },
  {
   "cell_type": "markdown",
   "id": "c6233fd2-dd07-443b-b7ed-45356581ae88",
   "metadata": {},
   "source": [
    "## Iteration 1\n",
    "In this initial iteration, we prepare the dataset for binary classification modeling and proceed to test our first baseline model, the Decision Tree, using our library."
   ]
  },
  {
   "cell_type": "code",
   "execution_count": null,
   "id": "ce8637db",
   "metadata": {},
   "outputs": [],
   "source": [
    "experiment_name = 'decision_tree_tryout'\n",
    "experiment = Experiment(MLFLOW_URI, experiment_name)\n",
    "experiment_id = mlflow.set_experiment(experiment.name).experiment_id"
   ]
  },
  {
   "cell_type": "code",
   "execution_count": null,
   "id": "abba6624",
   "metadata": {},
   "outputs": [],
   "source": [
    "feature_names = FeatureNames(numerical_cols, categorical_cols)"
   ]
  },
  {
   "cell_type": "code",
   "execution_count": null,
   "id": "309f851a",
   "metadata": {},
   "outputs": [],
   "source": [
    "with mlflow.start_run(experiment_id=experiment_id):\n",
    "    model = Pipeline(\n",
    "        [\n",
    "            ('input_transformer', make_data_transformer(feature_names)),\n",
    "            ('classifier', DecisionTreeClassifier()),\n",
    "        ]\n",
    "    )\n",
    "    model.fit(dataset.train_x, dataset.train_y)\n",
    "    results = accuracy_evaluation(model, dataset)\n",
    "    mlflow.log_metric(\"train_accuracy\", results['train'])\n",
    "    mlflow.log_metric(\"valid_accuracy\", results['val'])\n",
    "    mlflow.log_metric(\"test_accuracy\", results['test'])\n",
    "    print_accuracy_results(results)\n",
    "    sample = dataset.train_x.sample(5)\n",
    "    signature = infer_signature(sample, \n",
    "                                model.predict(sample))\n",
    "    mlflow.sklearn.log_model(model, \"model\", \n",
    "                             input_example=sample,\n",
    "                             signature=signature,\n",
    "                             extra_pip_requirements=[\"bank-marketing\"])\n",
    "    mlflow.log_dict(classic_ds_info, \"data.yml\")\n",
    "    display = RocCurveDisplay.from_predictions(dataset.val_y.values,\n",
    "                                            model.predict_proba(dataset.val_x)[:,1])\n",
    "    mlflow.log_figure(display.figure_, 'plots/ValidRocCurveDisplay.png')\n",
    "    display = RocCurveDisplay.from_predictions(dataset.test_y.values,\n",
    "                                            model.predict_proba(dataset.test_x)[:,1])\n",
    "    mlflow.log_figure(display.figure_, 'plots/TestRocCurveDisplay.png')"
   ]
  },
  {
   "cell_type": "markdown",
   "id": "a469b12d-dcb7-4575-957c-8c38b6750085",
   "metadata": {},
   "source": [
    "## Iteration 2:\n",
    "The second iteration is about testing multiple models and compare their performance. "
   ]
  },
  {
   "cell_type": "code",
   "execution_count": null,
   "id": "4e05d7ee",
   "metadata": {},
   "outputs": [],
   "source": [
    "experiment_name = 'classic_classif_exp'\n",
    "experiment = Experiment(MLFLOW_URI, experiment_name)\n",
    "classifiers_list = [DecisionTreeClassifier, MLPClassifier, RandomForestClassifier]\n",
    "results = train_and_evaluate_with_tracking(dataset, feature_names, classifiers_list, experiment, classic_ds_info)\n",
    "print_accuracy_results(results)"
   ]
  },
  {
   "cell_type": "code",
   "execution_count": null,
   "id": "bf0c6774",
   "metadata": {},
   "outputs": [],
   "source": [
    "explore_best_runs(experiment)"
   ]
  },
  {
   "cell_type": "markdown",
   "id": "d20ebef7",
   "metadata": {},
   "source": [
    "## Iteration 3\n",
    "The third iteration is about trying out advanced feature engineering with classifier model: Mini-Batch KMeans and Random Forest. "
   ]
  },
  {
   "cell_type": "code",
   "execution_count": null,
   "id": "0571f0f0",
   "metadata": {},
   "outputs": [],
   "source": [
    "experiment_name = 'random_forest_minibatch_kmeans_tryout'\n",
    "experiment = Experiment(MLFLOW_URI, experiment_name)\n",
    "experiment_id = mlflow.set_experiment(experiment.name).experiment_id"
   ]
  },
  {
   "cell_type": "code",
   "execution_count": null,
   "id": "9417aa7d",
   "metadata": {},
   "outputs": [],
   "source": [
    "adv_feature_names = AdvFeatureNames(\n",
    "    person_info_cols_num, person_info_cols_cat, num_cols_wo_customer, cat_cols_wo_customer\n",
    ")"
   ]
  },
  {
   "cell_type": "code",
   "execution_count": null,
   "id": "8783939f",
   "metadata": {},
   "outputs": [],
   "source": [
    "with mlflow.start_run(experiment_id=experiment_id):\n",
    "    model = Pipeline(\n",
    "        [\n",
    "            ('input_transformer', make_advanced_data_transformer(adv_feature_names, MiniBatchKMeans())), \n",
    "            ('classifier', RandomForestClassifier()),\n",
    "        ]\n",
    "    )\n",
    "    model.fit(dataset.train_x, dataset.train_y)\n",
    "    results = accuracy_evaluation(model, dataset)\n",
    "    mlflow.log_metric(\"train_accuracy\", results['train'])\n",
    "    mlflow.log_metric(\"valid_accuracy\", results['val'])\n",
    "    mlflow.log_metric(\"test_accuracy\", results['test'])\n",
    "    print_accuracy_results(results)\n",
    "    sample = dataset.train_x.sample(5)\n",
    "    signature = infer_signature(sample, \n",
    "                                model.predict(sample))\n",
    "    mlflow.sklearn.log_model(model, \"model\", \n",
    "                             input_example=sample,\n",
    "                             signature=signature,\n",
    "                             )\n",
    "    mlflow.log_dict(adv_ds_info, \"data.yml\")\n",
    "    display = RocCurveDisplay.from_predictions(dataset.val_y.values,\n",
    "                                            model.predict_proba(dataset.val_x)[:,1])\n",
    "    mlflow.log_figure(display.figure_, 'plots/ValidRocCurveDisplay.png')\n",
    "    display = RocCurveDisplay.from_predictions(dataset.test_y.values,\n",
    "                                            model.predict_proba(dataset.test_x)[:,1])\n",
    "    mlflow.log_figure(display.figure_, 'plots/TestRocCurveDisplay.png')"
   ]
  },
  {
   "cell_type": "markdown",
   "id": "ce531363-7dd7-4d34-a33f-d249d13ed7b1",
   "metadata": {},
   "source": [
    "## Iteration 4\n",
    "The fourth iteration is about testing advanced feature engineering with multiple models and comparing their performance. "
   ]
  },
  {
   "cell_type": "code",
   "execution_count": null,
   "id": "1d57be19",
   "metadata": {},
   "outputs": [],
   "source": [
    "experiment_name = 'adv_classifier_exp'\n",
    "experiment = Experiment(MLFLOW_URI, experiment_name)"
   ]
  },
  {
   "cell_type": "code",
   "execution_count": null,
   "id": "d75769b0",
   "metadata": {},
   "outputs": [],
   "source": [
    "classifiers_list = [DecisionTreeClassifier, RandomForestClassifier]\n",
    "clustering_algos_list = [KMeans, MiniBatchKMeans]\n",
    "results = advanced_train_and_evaluate_with_tracking(\n",
    "    dataset, adv_feature_names, clustering_algos_list, \n",
    "    classifiers_list, experiment, adv_ds_info\n",
    ")\n",
    "print_accuracy_results(results)"
   ]
  },
  {
   "cell_type": "code",
   "execution_count": null,
   "id": "a08f0506",
   "metadata": {},
   "outputs": [],
   "source": [
    "best_run = get_best_run(experiment)"
   ]
  },
  {
   "cell_type": "markdown",
   "id": "b12af46e",
   "metadata": {},
   "source": [
    "## Final Step\n",
    "It is important now to register our best advanced model into model registry. We will show how to transition to staging, as well as promoting to production using bank-marketing library, however, these steps should be done after careful validation."
   ]
  },
  {
   "cell_type": "code",
   "execution_count": null,
   "id": "56738cd0",
   "metadata": {},
   "outputs": [],
   "source": [
    "import bank_marketing.mlflow.registry as registry"
   ]
  },
  {
   "cell_type": "code",
   "execution_count": null,
   "id": "c8dc573a",
   "metadata": {},
   "outputs": [],
   "source": [
    "model_name = \"camp-accept-predictor\""
   ]
  },
  {
   "cell_type": "code",
   "execution_count": null,
   "id": "4ea1c352",
   "metadata": {},
   "outputs": [],
   "source": [
    "model_version = registry.register_model_from_run(experiment.tracking_server_uri, best_run, model_name)"
   ]
  },
  {
   "cell_type": "code",
   "execution_count": null,
   "id": "1e3157a1",
   "metadata": {},
   "outputs": [],
   "source": [
    "registry.transition_model_to_staging(experiment.tracking_server_uri, model_name, model_version.version)"
   ]
  },
  {
   "cell_type": "code",
   "execution_count": null,
   "id": "2f03a2be",
   "metadata": {},
   "outputs": [],
   "source": [
    "model_version = registry.promote_model_to_production(experiment.tracking_server_uri, model_name, f\"{model_name}-production\")"
   ]
  },
  {
   "cell_type": "code",
   "execution_count": null,
   "id": "8ec66c69",
   "metadata": {},
   "outputs": [],
   "source": [
    "registry.set_active_production_model(experiment.tracking_server_uri,  f\"{model_name}-production\", model_version.version)"
   ]
  },
  {
   "cell_type": "code",
   "execution_count": null,
   "id": "08f14b59-2c6f-449f-a038-2795dd3c220d",
   "metadata": {},
   "outputs": [],
   "source": []
  }
 ],
 "metadata": {
  "kernelspec": {
   "display_name": "Python 3 (ipykernel)",
   "language": "python",
   "name": "python3"
  },
  "language_info": {
   "codemirror_mode": {
    "name": "ipython",
    "version": 3
   },
   "file_extension": ".py",
   "mimetype": "text/x-python",
   "name": "python",
   "nbconvert_exporter": "python",
   "pygments_lexer": "ipython3",
   "version": "3.10.12"
  }
 },
 "nbformat": 4,
 "nbformat_minor": 5
}
